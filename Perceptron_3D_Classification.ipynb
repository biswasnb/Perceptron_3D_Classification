{
 "cells": [
  {
   "cell_type": "markdown",
   "metadata": {
    "id": "p-aKLy9n2W2k"
   },
   "source": [
    "\n",
    "Implement the perceptron learning algorithm to classify 3-dimensional points into two classes based on a given dataset. Update weights iteratively until convergence.\n",
    "\n",
    "\n",
    "\n"
   ]
  },
  {
   "cell_type": "markdown",
   "metadata": {
    "id": "XDHR_9hj6C3g"
   },
   "source": [
    "Points:\n",
    "\n",
    "{P0(-1,-1,-1) ,\n",
    "P1(-1,-1,1) , P2(-1,1,-1) , P3(-1,1,1) ,P4(1,-1,-1) , P5(1,-1,1) , P6(1,1,-1) , P7(1,1,1) }\n",
    "\n",
    "Two classes:\n",
    "\n",
    "C1 = { P7 (1,1,1) → Class +1 }\n",
    "C2 = { P0, P1, P2, P3, P4, P5, P6 → Class -1 }\n"
   ]
  },
  {
   "cell_type": "code",
   "execution_count": null,
   "metadata": {
    "colab": {
     "base_uri": "https://localhost:8080/"
    },
    "id": "EynuURFt6rLu",
    "outputId": "1bd3f38d-0a98-45ba-ffc3-a3163c391c60"
   },
   "outputs": [
    {
     "name": "stdout",
     "output_type": "stream",
     "text": [
      "Predictions: [-1 -1 -1 -1 -1 -1 -1  1]\n",
      "The dataset is linearly separable.\n"
     ]
    }
   ],
   "source": [
    "import numpy as np\n",
    "\n",
    "class Perceptron:\n",
    "    def __init__(self, learning_rate=0.1, epochs=1000):\n",
    "        self.lr = learning_rate\n",
    "        self.epochs = epochs\n",
    "        self.weights = None\n",
    "        self.bias = 0\n",
    "\n",
    "    def fit(self, X, y):\n",
    "        n_samples, n_features = X.shape\n",
    "        self.weights = np.zeros(n_features)\n",
    "\n",
    "        for _ in range(self.epochs):\n",
    "            for idx, x_i in enumerate(X):\n",
    "                update = self.lr * (y[idx] - self.predict(x_i))\n",
    "                self.weights += update * x_i\n",
    "                self.bias += update\n",
    "\n",
    "    def predict(self, X):\n",
    "        return np.where(np.dot(X, self.weights) + self.bias >= 0, 1, -1)\n",
    "\n",
    "# Given dataset\n",
    "X = np.array([\n",
    "    [-1, -1, -1], [-1, -1, 1], [-1, 1, -1], [-1, 1, 1],\n",
    "    [1, -1, -1], [1, -1, 1], [1, 1, -1], [1, 1, 1]\n",
    "])\n",
    "y = np.array([-1, -1, -1, -1, -1, -1, -1, 1])  # P7 in class +1, others in -1\n",
    "\n",
    "# Train perceptron\n",
    "perceptron = Perceptron(learning_rate=0.1, epochs=1000)\n",
    "perceptron.fit(X, y)\n",
    "\n",
    "# Predict the class of all points\n",
    "predictions = perceptron.predict(X)\n",
    "print(\"Predictions:\", predictions)\n",
    "\n",
    "# Check if the dataset is linearly separable\n",
    "if np.array_equal(predictions, y):\n",
    "    print(\"The dataset is linearly separable.\")\n",
    "else:\n",
    "    print(\"The dataset is not linearly separable.\")\n"
   ]
  },
  {
   "cell_type": "markdown",
   "metadata": {
    "id": "kJCVQhco21YS"
   },
   "source": [
    "Develop a Python program to determine the number of linearly separable binary classification problems from a given dataset of 3-dimensional points. Validate using multiple class combinations.\n"
   ]
  },
  {
   "cell_type": "code",
   "execution_count": null,
   "metadata": {
    "colab": {
     "base_uri": "https://localhost:8080/"
    },
    "id": "yQZuDouu6-t0",
    "outputId": "8df24824-d7a1-444a-925f-40da2ab2b701"
   },
   "outputs": [
    {
     "name": "stdout",
     "output_type": "stream",
     "text": [
      "Total binary classification problems: 256\n",
      "Number of linearly separable problems: 104\n"
     ]
    }
   ],
   "source": [
    "import numpy as np\n",
    "import itertools\n",
    "\n",
    "class Perceptron:\n",
    "    def __init__(self, learning_rate=0.1, epochs=1000):\n",
    "        self.lr = learning_rate\n",
    "        self.epochs = epochs\n",
    "        self.weights = None\n",
    "        self.bias = 0\n",
    "\n",
    "    def fit(self, X, y):\n",
    "        n_samples, n_features = X.shape\n",
    "        self.weights = np.zeros(n_features)\n",
    "\n",
    "        for _ in range(self.epochs):\n",
    "            for idx, x_i in enumerate(X):\n",
    "                update = self.lr * (y[idx] - self.predict(x_i))\n",
    "                self.weights += update * x_i\n",
    "                self.bias += update\n",
    "\n",
    "    def predict(self, X):\n",
    "        return np.where(np.dot(X, self.weights) + self.bias >= 0, 1, -1)\n",
    "\n",
    "def check_linear_separability(X, y):\n",
    "    perceptron = Perceptron(learning_rate=0.1, epochs=1000)\n",
    "    perceptron.fit(X, y)\n",
    "    predictions = perceptron.predict(X)\n",
    "    return np.array_equal(predictions, y)\n",
    "\n",
    "# Given 3D points\n",
    "X = np.array([\n",
    "    [-1, -1, -1],  # P0\n",
    "    [-1, -1,  1],  # P1\n",
    "    [-1,  1, -1],  # P2\n",
    "    [-1,  1,  1],  # P3\n",
    "    [ 1, -1, -1],  # P4\n",
    "    [ 1, -1,  1],  # P5\n",
    "    [ 1,  1, -1],  # P6\n",
    "    [ 1,  1,  1]   # P7\n",
    "])\n",
    "\n",
    "# Generate all possible binary classifications\n",
    "total_cases = 0\n",
    "separable_cases = 0\n",
    "\n",
    "for labels in itertools.product([-1, 1], repeat=8):  # All possible label combinations for 8 points\n",
    "    labels = np.array(labels)\n",
    "    total_cases += 1\n",
    "    if check_linear_separability(X, labels):\n",
    "        separable_cases += 1\n",
    "\n",
    "print(f\"Total binary classification problems: {total_cases}\")\n",
    "print(f\"Number of linearly separable problems: {separable_cases}\")\n"
   ]
  },
  {
   "cell_type": "markdown",
   "metadata": {
    "id": "4oXPoFsS3MTs"
   },
   "source": [
    "Analyze the convergence of the perceptron learning algorithm by varying the learning rate and epochs. Evaluate its impact on classification accuracy.\n"
   ]
  },
  {
   "cell_type": "code",
   "execution_count": 16,
   "metadata": {
    "colab": {
     "base_uri": "https://localhost:8080/"
    },
    "id": "tv2Oc2UE9Qtc",
    "outputId": "a4c3fe30-9abd-410d-e7a9-23095d740cf7"
   },
   "outputs": [
    {
     "name": "stdout",
     "output_type": "stream",
     "text": [
      "Learning Rate: 0.001, Epochs: 500, Accuracy: 0.50\n",
      "Learning Rate: 0.001, Epochs: 1000, Accuracy: 0.60\n",
      "Learning Rate: 0.001, Epochs: 3000, Accuracy: 0.60\n",
      "Learning Rate: 0.01, Epochs: 500, Accuracy: 0.50\n",
      "Learning Rate: 0.01, Epochs: 1000, Accuracy: 0.60\n",
      "Learning Rate: 0.01, Epochs: 3000, Accuracy: 0.60\n",
      "Learning Rate: 0.1, Epochs: 500, Accuracy: 0.50\n",
      "Learning Rate: 0.1, Epochs: 1000, Accuracy: 0.60\n",
      "Learning Rate: 0.1, Epochs: 3000, Accuracy: 0.60\n"
     ]
    }
   ],
   "source": [
    "from sklearn.model_selection import train_test_split\n",
    "from sklearn.metrics import accuracy_score\n",
    "\n",
    "def evaluate_convergence(X, y, learning_rates, epochs_list):\n",
    "    results = []\n",
    "    X_train, X_test, y_train, y_test = train_test_split(X, y, test_size=0.2, random_state=42)\n",
    "\n",
    "    for lr in learning_rates:\n",
    "        for ep in epochs_list:\n",
    "            perceptron = Perceptron(learning_rate=lr, epochs=ep)\n",
    "            perceptron.fit(X_train, y_train)\n",
    "            y_pred = perceptron.predict(X_test)\n",
    "            accuracy = accuracy_score(y_test, y_pred)\n",
    "            results.append((lr, ep, accuracy))\n",
    "\n",
    "    return results\n",
    "\n",
    "# Generate dataset\n",
    "X, y = np.random.uniform(-10, 10, (100, 3)), np.random.choice([-1, 1], 100)\n",
    "\n",
    "# Evaluate convergence\n",
    "learning_rates = [0.001, 0.01, 0.1]\n",
    "epochs_list = [500, 1000, 3000]\n",
    "convergence_results = evaluate_convergence(X, y, learning_rates, epochs_list)\n",
    "\n",
    "# Display results\n",
    "for lr, ep, acc in convergence_results:\n",
    "    print(f\"Learning Rate: {lr}, Epochs: {ep}, Accuracy: {acc:.2f}\")\n"
   ]
  },
  {
   "cell_type": "code",
   "execution_count": null,
   "metadata": {
    "id": "x1o-fz9tHAp9"
   },
   "outputs": [],
   "source": []
  }
 ],
 "metadata": {
  "colab": {
   "provenance": []
  },
  "kernelspec": {
   "display_name": "Python 3 (ipykernel)",
   "language": "python",
   "name": "python3"
  },
  "language_info": {
   "codemirror_mode": {
    "name": "ipython",
    "version": 3
   },
   "file_extension": ".py",
   "mimetype": "text/x-python",
   "name": "python",
   "nbconvert_exporter": "python",
   "pygments_lexer": "ipython3",
   "version": "3.9.7"
  }
 },
 "nbformat": 4,
 "nbformat_minor": 1
}
